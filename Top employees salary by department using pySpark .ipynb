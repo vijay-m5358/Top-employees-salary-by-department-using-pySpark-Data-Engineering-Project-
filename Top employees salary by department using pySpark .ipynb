{
 "cells": [
  {
   "cell_type": "code",
   "execution_count": 0,
   "metadata": {
    "application/vnd.databricks.v1+cell": {
     "cellMetadata": {
      "byteLimit": 2048000,
      "rowLimit": 10000
     },
     "inputWidgets": {},
     "nuid": "a1915b8e-153c-4858-b00a-a8f6ca9b6948",
     "showTitle": false,
     "tableResultSettingsMap": {},
     "title": ""
    }
   },
   "outputs": [
    {
     "output_type": "display_data",
     "data": {
      "text/html": [
       "\n",
       "            <div>\n",
       "                <p><b>SparkSession - hive</b></p>\n",
       "                \n",
       "        <div>\n",
       "            <p><b>SparkContext</b></p>\n",
       "\n",
       "            <p><a href=\"/?o=1409838534685551#setting/sparkui/0420-020041-mnsbizm3/driver-2855465209869261690\">Spark UI</a></p>\n",
       "\n",
       "            <dl>\n",
       "              <dt>Version</dt>\n",
       "                <dd><code>v3.3.2</code></dd>\n",
       "              <dt>Master</dt>\n",
       "                <dd><code>local[8]</code></dd>\n",
       "              <dt>AppName</dt>\n",
       "                <dd><code>Databricks Shell</code></dd>\n",
       "            </dl>\n",
       "        </div>\n",
       "        \n",
       "            </div>\n",
       "        "
      ]
     },
     "metadata": {
      "application/vnd.databricks.v1+output": {
       "addedWidgets": {},
       "arguments": {},
       "data": "\n            <div>\n                <p><b>SparkSession - hive</b></p>\n                \n        <div>\n            <p><b>SparkContext</b></p>\n\n            <p><a href=\"/?o=1409838534685551#setting/sparkui/0420-020041-mnsbizm3/driver-2855465209869261690\">Spark UI</a></p>\n\n            <dl>\n              <dt>Version</dt>\n                <dd><code>v3.3.2</code></dd>\n              <dt>Master</dt>\n                <dd><code>local[8]</code></dd>\n              <dt>AppName</dt>\n                <dd><code>Databricks Shell</code></dd>\n            </dl>\n        </div>\n        \n            </div>\n        ",
       "datasetInfos": [],
       "metadata": {},
       "removedWidgets": [],
       "textData": null,
       "type": "htmlSandbox"
      }
     },
     "output_type": "display_data"
    }
   ],
   "source": [
    "spark"
   ]
  },
  {
   "cell_type": "code",
   "execution_count": 0,
   "metadata": {
    "application/vnd.databricks.v1+cell": {
     "cellMetadata": {
      "byteLimit": 2048000,
      "rowLimit": 10000
     },
     "inputWidgets": {},
     "nuid": "7677d975-5260-49eb-a7b8-9c53c7be4aa1",
     "showTitle": false,
     "tableResultSettingsMap": {},
     "title": ""
    }
   },
   "outputs": [],
   "source": [
    "access_key = 'your_access_key'\n",
    "secret_key = 'your_secret_key'\n",
    "sc._jsc.hadoopConfiguration().set(\"fs.s3a.access.key\", access_key)\n",
    "sc._jsc.hadoopConfiguration().set(\"fs.s3a.secret.key\", secret_key)\n",
    "\n",
    "# If you are using Auto Loader file notification mode to load files, provide the AWS Region ID.\n",
    "aws_region = \"us-east-1\"\n",
    "sc._jsc.hadoopConfiguration().set(\"fs.s3a.endpoint\", \"s3.\" + aws_region + \".amazonaws.com\")\n",
    "\n"
   ]
  },
  {
   "cell_type": "code",
   "execution_count": 0,
   "metadata": {
    "application/vnd.databricks.v1+cell": {
     "cellMetadata": {
      "byteLimit": 2048000,
      "rowLimit": 10000
     },
     "inputWidgets": {},
     "nuid": "f6a69491-701e-4962-912d-9467862aea5c",
     "showTitle": false,
     "tableResultSettingsMap": {},
     "title": ""
    }
   },
   "outputs": [],
   "source": [
    "from pyspark.sql import SparkSession\n",
    "from pyspark.sql.types import StructType, StructField, IntegerType, DecimalType, StringType, DateType\n",
    "from pyspark.sql.functions import *\n",
    "from pyspark.sql.window import Window"
   ]
  },
  {
   "cell_type": "code",
   "execution_count": 0,
   "metadata": {
    "application/vnd.databricks.v1+cell": {
     "cellMetadata": {
      "byteLimit": 2048000,
      "rowLimit": 10000
     },
     "inputWidgets": {},
     "nuid": "06527adb-f88e-4430-87c6-e2281b254c3c",
     "showTitle": false,
     "tableResultSettingsMap": {},
     "title": ""
    }
   },
   "outputs": [],
   "source": [
    "spark = SparkSession.builder.appName(\"sample-project\").getOrCreate()"
   ]
  },
  {
   "cell_type": "code",
   "execution_count": 0,
   "metadata": {
    "application/vnd.databricks.v1+cell": {
     "cellMetadata": {
      "byteLimit": 2048000,
      "rowLimit": 10000
     },
     "inputWidgets": {},
     "nuid": "30b389f7-c1e6-4bd8-8dcc-dc01a7334239",
     "showTitle": false,
     "tableResultSettingsMap": {},
     "title": ""
    }
   },
   "outputs": [],
   "source": [
    "employees_df = spark.read.schema(employees_schema).format(\"csv\").option(\"header\", \"true\").load(\"s3://vijaysampleproject/employee.csv\")"
   ]
  },
  {
   "cell_type": "code",
   "execution_count": 0,
   "metadata": {
    "application/vnd.databricks.v1+cell": {
     "cellMetadata": {
      "byteLimit": 2048000,
      "rowLimit": 10000
     },
     "inputWidgets": {},
     "nuid": "3d736d1c-492b-4c61-86a5-972d7ce131ce",
     "showTitle": false,
     "tableResultSettingsMap": {},
     "title": ""
    }
   },
   "outputs": [],
   "source": [
    "employees_schema = StructType([\n",
    "    StructField(\"EMPLOYEE_ID\", IntegerType(), True),\n",
    "    StructField(\"FIRST_NAME\", StringType(), True),\n",
    "    StructField(\"LAST_NAME\", StringType(), True),\n",
    "    StructField(\"EMAIL\", StringType(), True),\n",
    "    StructField(\"PHONE_NUMBER\", IntegerType(), True),\n",
    "    StructField(\"HIRE_DATE\", DateType(), True),\n",
    "    StructField(\"JOB_ID\", StringType(), True),\n",
    "    StructField(\"SALARY\", IntegerType(), True),\n",
    "    StructField(\"COMMISSION_PCT\", DecimalType(), True),\n",
    "    StructField(\"MANAGER_ID\", IntegerType(), True),\n",
    "    StructField(\"DEPARTMENT_ID\", IntegerType(), True)\n",
    "])"
   ]
  },
  {
   "cell_type": "code",
   "execution_count": 0,
   "metadata": {
    "application/vnd.databricks.v1+cell": {
     "cellMetadata": {
      "byteLimit": 2048000,
      "rowLimit": 10000
     },
     "inputWidgets": {},
     "nuid": "8d46ccf9-5d9b-4ee5-9721-7b588b9b57af",
     "showTitle": false,
     "tableResultSettingsMap": {},
     "title": ""
    }
   },
   "outputs": [
    {
     "output_type": "stream",
     "name": "stdout",
     "output_type": "stream",
     "text": [
      "+-----------+-----------+----------+--------+------------+---------+----------+------+--------------+----------+-------------+\n|EMPLOYEE_ID| FIRST_NAME| LAST_NAME|   EMAIL|PHONE_NUMBER|HIRE_DATE|    JOB_ID|SALARY|COMMISSION_PCT|MANAGER_ID|DEPARTMENT_ID|\n+-----------+-----------+----------+--------+------------+---------+----------+------+--------------+----------+-------------+\n|        100|     Steven|      King|   SKING|        null|     null|   AD_PRES| 24000|          null|      null|           90|\n|        101|      Neena|   Kochhar|NKOCHHAR|        null|     null|     AD_VP| 17000|          null|       100|           90|\n|        102|        Lex|   De Haan| LDEHAAN|        null|     null|     AD_VP| 17000|          null|       100|           90|\n|        103|  Alexander|    Hunold| AHUNOLD|        null|     null|   IT_PROG|  9000|          null|       102|           60|\n|        104|      Bruce|     Ernst|  BERNST|        null|     null|   IT_PROG|  6000|          null|       103|           60|\n|        105|      David|    Austin| DAUSTIN|        null|     null|   IT_PROG|  4800|          null|       103|           60|\n|        106|      Valli| Pataballa|VPATABAL|        null|     null|   IT_PROG|  4800|          null|       103|           60|\n|        107|      Diana|   Lorentz|DLORENTZ|        null|     null|   IT_PROG|  4200|          null|       103|           60|\n|        108|      Nancy| Greenberg|NGREENBE|        null|     null|    FI_MGR| 12008|          null|       101|          100|\n|        109|     Daniel|    Faviet| DFAVIET|        null|     null|FI_ACCOUNT|  9000|          null|       108|          100|\n|        110|       John|      Chen|   JCHEN|        null|     null|FI_ACCOUNT|  8200|          null|       108|          100|\n|        111|     Ismael|   Sciarra|ISCIARRA|        null|     null|FI_ACCOUNT|  7700|          null|       108|          100|\n|        112|Jose Manuel|     Urman| JMURMAN|        null|     null|FI_ACCOUNT|  7800|          null|       108|          100|\n|        113|       Luis|      Popp|   LPOPP|        null|     null|FI_ACCOUNT|  6900|          null|       108|          100|\n|        114|        Den|  Raphaely|DRAPHEAL|        null|     null|    PU_MAN| 11000|          null|       100|           30|\n|        115|  Alexander|      Khoo|   AKHOO|        null|     null|  PU_CLERK|  3100|          null|       114|           30|\n|        116|     Shelli|     Baida|  SBAIDA|        null|     null|  PU_CLERK|  2900|          null|       114|           30|\n|        117|      Sigal|    Tobias| STOBIAS|        null|     null|  PU_CLERK|  2800|          null|       114|           30|\n|        118|        Guy|    Himuro| GHIMURO|        null|     null|  PU_CLERK|  2600|          null|       114|           30|\n|        119|      Karen|Colmenares|KCOLMENA|        null|     null|  PU_CLERK|  2500|          null|       114|           30|\n+-----------+-----------+----------+--------+------------+---------+----------+------+--------------+----------+-------------+\nonly showing top 20 rows\n\n"
     ]
    }
   ],
   "source": [
    "employees_df.show()"
   ]
  },
  {
   "cell_type": "code",
   "execution_count": 0,
   "metadata": {
    "application/vnd.databricks.v1+cell": {
     "cellMetadata": {
      "byteLimit": 2048000,
      "rowLimit": 10000
     },
     "inputWidgets": {},
     "nuid": "541b513d-559e-4eda-b113-b8b3e235c22e",
     "showTitle": false,
     "tableResultSettingsMap": {},
     "title": ""
    }
   },
   "outputs": [],
   "source": [
    "departments_schema = StructType([\n",
    "    StructField(\"DEPARTMENT_ID\", IntegerType(), True),\n",
    "    StructField(\"DEPARTMENT_NAME\", StringType(), True),\n",
    "    StructField(\"MANAGER_ID\", IntegerType(), True),\n",
    "    StructField(\"LOCATION_ID\", IntegerType(), True)\n",
    "])\n",
    "\n",
    "Departments_df = spark.read.schema(departments_schema).format(\"csv\").option(\"header\", \"true\").load(\"s3://vijaysampleproject/departments.csv\")"
   ]
  },
  {
   "cell_type": "code",
   "execution_count": 0,
   "metadata": {
    "application/vnd.databricks.v1+cell": {
     "cellMetadata": {
      "byteLimit": 2048000,
      "rowLimit": 10000
     },
     "inputWidgets": {},
     "nuid": "919c5f1e-dff9-4c7d-a828-8a3775778ead",
     "showTitle": false,
     "tableResultSettingsMap": {},
     "title": ""
    }
   },
   "outputs": [
    {
     "output_type": "stream",
     "name": "stdout",
     "output_type": "stream",
     "text": [
      "+-------------+--------------------+----------+-----------+\n|DEPARTMENT_ID|     DEPARTMENT_NAME|MANAGER_ID|LOCATION_ID|\n+-------------+--------------------+----------+-----------+\n|           10|      Administration|       200|       1700|\n|           20|           Marketing|       201|       1800|\n|           30|          Purchasing|       114|       1700|\n|           40|     Human Resources|       203|       2400|\n|           50|            Shipping|       121|       1500|\n|           60|                  IT|       103|       1400|\n|           70|    Public Relations|       204|       2700|\n|           80|               Sales|       145|       2500|\n|           90|           Executive|       100|       1700|\n|          100|             Finance|       108|       1700|\n|          110|          Accounting|       205|       1700|\n|          120|            Treasury|      null|       1700|\n|          130|       Corporate Tax|      null|       1700|\n|          140|  Control And Credit|      null|       1700|\n|          150|Shareholder Services|      null|       1700|\n|          160|            Benefits|      null|       1700|\n|          170|       Manufacturing|      null|       1700|\n|          180|        Construction|      null|       1700|\n|          190|         Contracting|      null|       1700|\n|          200|          Operations|      null|       1700|\n+-------------+--------------------+----------+-----------+\nonly showing top 20 rows\n\n"
     ]
    }
   ],
   "source": [
    "Departments_df.show()"
   ]
  },
  {
   "cell_type": "code",
   "execution_count": 0,
   "metadata": {
    "application/vnd.databricks.v1+cell": {
     "cellMetadata": {
      "byteLimit": 2048000,
      "rowLimit": 10000
     },
     "inputWidgets": {},
     "nuid": "f749adad-b632-49fb-888c-094499f73620",
     "showTitle": false,
     "tableResultSettingsMap": {},
     "title": ""
    }
   },
   "outputs": [],
   "source": [
    "locations_schema = StructType([\n",
    "    StructField(\"LOCATION_ID\", IntegerType(), True),\n",
    "    StructField(\"STREET_ADDRESS\", StringType(), True),\n",
    "    StructField(\"POSTAL_CODE\", IntegerType(), True),\n",
    "    StructField(\"CITY\", IntegerType(), True),\n",
    "    StructField(\"STATE_PROVINCE\", StringType(), True),\n",
    "    StructField(\"COUNTRY_ID\", StringType(), True)\n",
    "])\n",
    "\n",
    "Loactions_df = spark.read.schema(locations_schema).format(\"csv\").option(\"header\", \"true\").load(\"s3://vijaysampleproject/locations.csv\")"
   ]
  },
  {
   "cell_type": "code",
   "execution_count": 0,
   "metadata": {
    "application/vnd.databricks.v1+cell": {
     "cellMetadata": {
      "byteLimit": 2048000,
      "rowLimit": 10000
     },
     "inputWidgets": {},
     "nuid": "8e55f48f-4e70-4bec-a8d0-1a51ae5d45fa",
     "showTitle": false,
     "tableResultSettingsMap": {},
     "title": ""
    }
   },
   "outputs": [
    {
     "output_type": "stream",
     "name": "stdout",
     "output_type": "stream",
     "text": [
      "+-----------+--------------------+-----------+----+----------------+----------+\n|LOCATION_ID|      STREET_ADDRESS|POSTAL_CODE|CITY|  STATE_PROVINCE|COUNTRY_ID|\n+-----------+--------------------+-----------+----+----------------+----------+\n|       1000|1297 Via Cola di Rie|        989|null|            null|        IT|\n|       1100|93091 Calle della...|      10934|null|            null|        IT|\n|       1200|    2017 Shinjuku-ku|       1689|null|Tokyo Prefecture|        JP|\n|       1300|     9450 Kamiya-cho|       6823|null|            null|        JP|\n|       1400| 2014 Jabberwocky Rd|      26192|null|           Texas|        US|\n|       1500| 2011 Interiors Blvd|      99236|null|      California|        US|\n|       1600|      2007 Zagora St|      50090|null|      New Jersey|        US|\n|       1700|     2004 Charade Rd|      98199|null|      Washington|        US|\n|       1800|     147 Spadina Ave|       null|null|         Ontario|        CA|\n|       1900|     6092 Boxwood St|       null|null|           Yukon|        CA|\n|       2000| 40-5-12 Laogianggen|     190518|null|            null|        CN|\n|       2100|  1298 Vileparle (E)|     490231|null|     Maharashtra|        IN|\n|       2200|12-98 Victoria St...|       2901|null| New South Wales|        AU|\n|       2300|  198 Clementi North|     540198|null|            null|        SG|\n|       2400|      8204 Arthur St|       null|null|            null|        UK|\n|       2500|Magdalen Centre, ...|       null|null|          Oxford|        UK|\n|       2600|   9702 Chester Road|       null|null|      Manchester|        UK|\n|       2700|Schwanthalerstr. ...|      80925|null|         Bavaria|        DE|\n|       2800|Rua Frei Caneca 1...|       null|null|       Sao Paulo|        BR|\n|       2900|20 Rue des Corps-...|       1730|null|          Geneve|        CH|\n+-----------+--------------------+-----------+----+----------------+----------+\nonly showing top 20 rows\n\n"
     ]
    }
   ],
   "source": [
    "Loactions_df.show()"
   ]
  },
  {
   "cell_type": "code",
   "execution_count": 0,
   "metadata": {
    "application/vnd.databricks.v1+cell": {
     "cellMetadata": {
      "byteLimit": 2048000,
      "rowLimit": 10000
     },
     "inputWidgets": {},
     "nuid": "01455b14-d381-4a35-9592-71267c3df922",
     "showTitle": false,
     "tableResultSettingsMap": {},
     "title": ""
    }
   },
   "outputs": [],
   "source": [
    "#transformation - finding out the range of salary for the employees\n",
    "\n",
    "\n",
    "employees_df = employees_df.withColumn(\n",
    "    \"salary_range\",\n",
    "    when((col(\"salary\") > 16000), \"High_Salary\").\n",
    "    when(((col(\"salary\") > 8000)) & (col(\"salary\") < 16000), \"Medium_Salary\").\n",
    "    otherwise(\"Low_Salary\")\n",
    ")\n"
   ]
  },
  {
   "cell_type": "code",
   "execution_count": 0,
   "metadata": {
    "application/vnd.databricks.v1+cell": {
     "cellMetadata": {
      "byteLimit": 2048000,
      "rowLimit": 10000
     },
     "inputWidgets": {},
     "nuid": "b763d6c9-b274-47e7-a944-305853056d55",
     "showTitle": false,
     "tableResultSettingsMap": {},
     "title": ""
    }
   },
   "outputs": [],
   "source": [
    "#transformation 2 - list out all the employees by department\n",
    "\n",
    "windowSpec = Window.partitionBy(\"manager_id\").orderBy(\"department_id\")\n",
    "\n",
    "employees_df = employees_df.withColumn(\n",
    "    \"dep_grouped\",\n",
    "    count(\"*\").over(windowSpec)\n",
    ")"
   ]
  },
  {
   "cell_type": "code",
   "execution_count": 0,
   "metadata": {
    "application/vnd.databricks.v1+cell": {
     "cellMetadata": {
      "byteLimit": 2048000,
      "rowLimit": 10000
     },
     "inputWidgets": {},
     "nuid": "2a9bd515-d2b8-471a-b102-8421652da026",
     "showTitle": false,
     "tableResultSettingsMap": {},
     "title": ""
    }
   },
   "outputs": [],
   "source": [
    "employees_df.createOrReplaceTempView(\"employee\")\n",
    "Departments_df.createOrReplaceTempView(\"departments\")\n",
    "Loactions_df.createOrReplaceTempView(\"locations\")\n"
   ]
  },
  {
   "cell_type": "code",
   "execution_count": 0,
   "metadata": {
    "application/vnd.databricks.v1+cell": {
     "cellMetadata": {
      "byteLimit": 2048000,
      "rowLimit": 10000
     },
     "inputWidgets": {},
     "nuid": "5490f03e-5346-46f0-baf8-688e3d5aa4fd",
     "showTitle": false,
     "tableResultSettingsMap": {},
     "title": ""
    }
   },
   "outputs": [],
   "source": [
    "Employees_details = spark.sql(\"\"\"\n",
    "       select e.employee_id, e.first_name, e.salary, d.department_id, d.department_name, l.location_id, l.STATE_PROVINCE\n",
    "       from employee e inner join departments d   \n",
    "       on e.manager_id = d.manager_id \n",
    "       inner join locations l \n",
    "       on d.location_id = l.location_id                 \n",
    "                              \"\"\")"
   ]
  },
  {
   "cell_type": "code",
   "execution_count": 0,
   "metadata": {
    "application/vnd.databricks.v1+cell": {
     "cellMetadata": {
      "byteLimit": 2048000,
      "rowLimit": 10000
     },
     "inputWidgets": {},
     "nuid": "450ba032-13d5-4da0-8b44-0c48a0072870",
     "showTitle": false,
     "tableResultSettingsMap": {},
     "title": ""
    }
   },
   "outputs": [
    {
     "output_type": "stream",
     "name": "stdout",
     "output_type": "stream",
     "text": [
      "+-----------+-----------+------+-------------+---------------+-----------+--------------+\n|employee_id| first_name|salary|department_id|department_name|location_id|STATE_PROVINCE|\n+-----------+-----------+------+-------------+---------------+-----------+--------------+\n|        101|      Neena| 17000|           90|      Executive|       1700|    Washington|\n|        102|        Lex| 17000|           90|      Executive|       1700|    Washington|\n|        104|      Bruce|  6000|           60|             IT|       1400|         Texas|\n|        105|      David|  4800|           60|             IT|       1400|         Texas|\n|        106|      Valli|  4800|           60|             IT|       1400|         Texas|\n|        107|      Diana|  4200|           60|             IT|       1400|         Texas|\n|        109|     Daniel|  9000|          100|        Finance|       1700|    Washington|\n|        110|       John|  8200|          100|        Finance|       1700|    Washington|\n|        111|     Ismael|  7700|          100|        Finance|       1700|    Washington|\n|        112|Jose Manuel|  7800|          100|        Finance|       1700|    Washington|\n|        113|       Luis|  6900|          100|        Finance|       1700|    Washington|\n|        114|        Den| 11000|           90|      Executive|       1700|    Washington|\n|        115|  Alexander|  3100|           30|     Purchasing|       1700|    Washington|\n|        116|     Shelli|  2900|           30|     Purchasing|       1700|    Washington|\n|        117|      Sigal|  2800|           30|     Purchasing|       1700|    Washington|\n|        118|        Guy|  2600|           30|     Purchasing|       1700|    Washington|\n|        119|      Karen|  2500|           30|     Purchasing|       1700|    Washington|\n|        120|    Matthew|  8000|           90|      Executive|       1700|    Washington|\n|        121|       Adam|  8200|           90|      Executive|       1700|    Washington|\n|        122|      Payam|  7900|           90|      Executive|       1700|    Washington|\n+-----------+-----------+------+-------------+---------------+-----------+--------------+\nonly showing top 20 rows\n\n"
     ]
    }
   ],
   "source": [
    "Employees_details.show()"
   ]
  },
  {
   "cell_type": "code",
   "execution_count": 0,
   "metadata": {
    "application/vnd.databricks.v1+cell": {
     "cellMetadata": {
      "byteLimit": 2048000,
      "rowLimit": 10000
     },
     "inputWidgets": {},
     "nuid": "0a191a48-86d8-497c-a603-7b6675ae38fb",
     "showTitle": false,
     "tableResultSettingsMap": {},
     "title": ""
    }
   },
   "outputs": [
    {
     "output_type": "stream",
     "name": "stdout",
     "output_type": "stream",
     "text": [
      "+-----------+-----------+------+-------------+---------------+-----------+--------------+\n|employee_id| first_name|salary|department_id|department_name|location_id|STATE_PROVINCE|\n+-----------+-----------+------+-------------+---------------+-----------+--------------+\n|        101|      Neena| 17000|           90|      Executive|       1700|    Washington|\n|        102|        Lex| 17000|           90|      Executive|       1700|    Washington|\n|        104|      Bruce|  6000|           60|             IT|       1400|         Texas|\n|        105|      David|  4800|           60|             IT|       1400|         Texas|\n|        106|      Valli|  4800|           60|             IT|       1400|         Texas|\n|        107|      Diana|  4200|           60|             IT|       1400|         Texas|\n|        109|     Daniel|  9000|          100|        Finance|       1700|    Washington|\n|        110|       John|  8200|          100|        Finance|       1700|    Washington|\n|        111|     Ismael|  7700|          100|        Finance|       1700|    Washington|\n|        112|Jose Manuel|  7800|          100|        Finance|       1700|    Washington|\n|        113|       Luis|  6900|          100|        Finance|       1700|    Washington|\n|        114|        Den| 11000|           90|      Executive|       1700|    Washington|\n|        115|  Alexander|  3100|           30|     Purchasing|       1700|    Washington|\n|        116|     Shelli|  2900|           30|     Purchasing|       1700|    Washington|\n|        117|      Sigal|  2800|           30|     Purchasing|       1700|    Washington|\n|        118|        Guy|  2600|           30|     Purchasing|       1700|    Washington|\n|        119|      Karen|  2500|           30|     Purchasing|       1700|    Washington|\n|        120|    Matthew|  8000|           90|      Executive|       1700|    Washington|\n|        121|       Adam|  8200|           90|      Executive|       1700|    Washington|\n|        122|      Payam|  7900|           90|      Executive|       1700|    Washington|\n+-----------+-----------+------+-------------+---------------+-----------+--------------+\nonly showing top 20 rows\n\n"
     ]
    }
   ],
   "source": [
    "Employees_details.show()"
   ]
  },
  {
   "cell_type": "code",
   "execution_count": 0,
   "metadata": {
    "application/vnd.databricks.v1+cell": {
     "cellMetadata": {
      "byteLimit": 2048000,
      "rowLimit": 10000
     },
     "inputWidgets": {},
     "nuid": "9a68d2e8-14be-4c03-b7d8-b21f5226687e",
     "showTitle": false,
     "tableResultSettingsMap": {},
     "title": ""
    }
   },
   "outputs": [],
   "source": [
    "\n",
    "import matplotlib.pyplot as plt\n"
   ]
  },
  {
   "cell_type": "code",
   "execution_count": 0,
   "metadata": {
    "application/vnd.databricks.v1+cell": {
     "cellMetadata": {
      "byteLimit": 2048000,
      "rowLimit": 10000
     },
     "inputWidgets": {},
     "nuid": "5cdf41d9-b6c3-4277-814c-569d80c95296",
     "showTitle": false,
     "tableResultSettingsMap": {},
     "title": ""
    }
   },
   "outputs": [
    {
     "output_type": "display_data",
     "data": {
      "image/png": "[encoded data removed]"
     },
     "metadata": {
      "application/vnd.databricks.v1+output": {
       "addedWidgets": {},
       "arguments": {},
       "data": "data:image/png;base64,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\n",
       "datasetInfos": [],
       "metadata": {},
       "removedWidgets": [],
       "type": "image"
      }
     },
     "output_type": "display_data"
    }
   ],
   "source": [
    "# Convert to Pandas for Plotting\n",
    "Employees_details_pd = Employees_details.toPandas()\n",
    "\n",
    "# Visualizing using Matplotlib\n",
    "import matplotlib.pyplot as plt\n",
    "\n",
    "plt.figure(figsize=(16, 8))\n",
    "\n",
    "# Limiting to top 10 by salary\n",
    "top_employees = Employees_details_pd\n",
    "\n",
    "# Plotting\n",
    "plt.bar(top_employees['department_name'], top_employees['salary'], color='grey')\n",
    "plt.xlabel('Department Name')\n",
    "plt.ylabel('Salary')\n",
    "plt.title('Highest Paid Employees by Department')\n",
    "plt.xticks(rotation=45, ha='right')\n",
    "plt.tight_layout()\n",
    "plt.show()"
   ]
  },
  {
   "cell_type": "code",
   "execution_count": 0,
   "metadata": {
    "application/vnd.databricks.v1+cell": {
     "cellMetadata": {
      "byteLimit": 2048000,
      "rowLimit": 10000
     },
     "inputWidgets": {},
     "nuid": "10de2286-a633-4c5f-8bf4-3f64972a3c03",
     "showTitle": false,
     "tableResultSettingsMap": {},
     "title": ""
    }
   },
   "outputs": [],
   "source": []
  }
 ],
 "metadata": {
  "application/vnd.databricks.v1+notebook": {
   "computePreferences": null,
   "dashboards": [],
   "environmentMetadata": {
    "base_environment": "",
    "environment_version": "1"
   },
   "inputWidgetPreferences": null,
   "language": "python",
   "notebookMetadata": {
    "pythonIndentUnit": 4
   },
   "notebookName": "sample_project",
   "widgets": {}
  }
 },
 "nbformat": 4,
 "nbformat_minor": 0
}
